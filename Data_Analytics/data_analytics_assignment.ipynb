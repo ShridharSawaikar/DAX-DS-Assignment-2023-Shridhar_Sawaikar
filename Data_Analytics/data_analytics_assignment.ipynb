{
 "cells": [
  {
   "cell_type": "code",
   "execution_count": 4,
   "id": "5376e77b-a9dd-4400-bac1-cefbb0bc64c3",
   "metadata": {},
   "outputs": [
    {
     "name": "stdout",
     "output_type": "stream",
     "text": [
      "Requirement already satisfied: pandas in c:\\users\\ssawai\\onedrive - infogroup\\desktop\\dax-ds-assignment-2023-shridhar_sawaikar\\data_analytics\\.venv\\lib\\site-packages (2.0.3)\n",
      "Requirement already satisfied: python-dateutil>=2.8.2 in c:\\users\\ssawai\\onedrive - infogroup\\desktop\\dax-ds-assignment-2023-shridhar_sawaikar\\data_analytics\\.venv\\lib\\site-packages (from pandas) (2.8.2)\n",
      "Requirement already satisfied: pytz>=2020.1 in c:\\users\\ssawai\\onedrive - infogroup\\desktop\\dax-ds-assignment-2023-shridhar_sawaikar\\data_analytics\\.venv\\lib\\site-packages (from pandas) (2023.3)\n",
      "Requirement already satisfied: tzdata>=2022.1 in c:\\users\\ssawai\\onedrive - infogroup\\desktop\\dax-ds-assignment-2023-shridhar_sawaikar\\data_analytics\\.venv\\lib\\site-packages (from pandas) (2023.3)\n",
      "Requirement already satisfied: numpy>=1.21.0 in c:\\users\\ssawai\\onedrive - infogroup\\desktop\\dax-ds-assignment-2023-shridhar_sawaikar\\data_analytics\\.venv\\lib\\site-packages (from pandas) (1.25.1)\n",
      "Requirement already satisfied: six>=1.5 in c:\\users\\ssawai\\onedrive - infogroup\\desktop\\dax-ds-assignment-2023-shridhar_sawaikar\\data_analytics\\.venv\\lib\\site-packages (from python-dateutil>=2.8.2->pandas) (1.16.0)\n",
      "Note: you may need to restart the kernel to use updated packages.\n"
     ]
    },
    {
     "name": "stderr",
     "output_type": "stream",
     "text": [
      "\n",
      "[notice] A new release of pip is available: 23.1.2 -> 23.2.1\n",
      "[notice] To update, run: python.exe -m pip install --upgrade pip\n"
     ]
    }
   ],
   "source": [
    "pip install pandas"
   ]
  },
  {
   "cell_type": "code",
   "execution_count": 1,
   "id": "e89a97c6",
   "metadata": {},
   "outputs": [
    {
     "data": {
      "text/html": [
       "<div>\n",
       "<style scoped>\n",
       "    .dataframe tbody tr th:only-of-type {\n",
       "        vertical-align: middle;\n",
       "    }\n",
       "\n",
       "    .dataframe tbody tr th {\n",
       "        vertical-align: top;\n",
       "    }\n",
       "\n",
       "    .dataframe thead th {\n",
       "        text-align: right;\n",
       "    }\n",
       "</style>\n",
       "<table border=\"1\" class=\"dataframe\">\n",
       "  <thead>\n",
       "    <tr style=\"text-align: right;\">\n",
       "      <th></th>\n",
       "      <th>id</th>\n",
       "      <th>gender</th>\n",
       "      <th>age</th>\n",
       "      <th>hypertension</th>\n",
       "      <th>heart_disease</th>\n",
       "      <th>ever_married</th>\n",
       "      <th>work_type</th>\n",
       "      <th>Residence_type</th>\n",
       "      <th>avg_glucose_level</th>\n",
       "      <th>bmi</th>\n",
       "      <th>smoking_status</th>\n",
       "      <th>stroke</th>\n",
       "    </tr>\n",
       "  </thead>\n",
       "  <tbody>\n",
       "    <tr>\n",
       "      <th>0</th>\n",
       "      <td>9046</td>\n",
       "      <td>Male</td>\n",
       "      <td>67.0</td>\n",
       "      <td>0</td>\n",
       "      <td>1</td>\n",
       "      <td>Yes</td>\n",
       "      <td>Private</td>\n",
       "      <td>Urban</td>\n",
       "      <td>228.69</td>\n",
       "      <td>36.6</td>\n",
       "      <td>formerly smoked</td>\n",
       "      <td>1</td>\n",
       "    </tr>\n",
       "    <tr>\n",
       "      <th>1</th>\n",
       "      <td>51676</td>\n",
       "      <td>Female</td>\n",
       "      <td>61.0</td>\n",
       "      <td>0</td>\n",
       "      <td>0</td>\n",
       "      <td>Yes</td>\n",
       "      <td>Self-employed</td>\n",
       "      <td>Rural</td>\n",
       "      <td>202.21</td>\n",
       "      <td>NaN</td>\n",
       "      <td>never smoked</td>\n",
       "      <td>1</td>\n",
       "    </tr>\n",
       "    <tr>\n",
       "      <th>2</th>\n",
       "      <td>31112</td>\n",
       "      <td>Male</td>\n",
       "      <td>80.0</td>\n",
       "      <td>0</td>\n",
       "      <td>1</td>\n",
       "      <td>Yes</td>\n",
       "      <td>Private</td>\n",
       "      <td>Rural</td>\n",
       "      <td>105.92</td>\n",
       "      <td>32.5</td>\n",
       "      <td>never smoked</td>\n",
       "      <td>1</td>\n",
       "    </tr>\n",
       "    <tr>\n",
       "      <th>3</th>\n",
       "      <td>60182</td>\n",
       "      <td>Female</td>\n",
       "      <td>49.0</td>\n",
       "      <td>0</td>\n",
       "      <td>0</td>\n",
       "      <td>Yes</td>\n",
       "      <td>Private</td>\n",
       "      <td>Urban</td>\n",
       "      <td>171.23</td>\n",
       "      <td>34.4</td>\n",
       "      <td>smokes</td>\n",
       "      <td>1</td>\n",
       "    </tr>\n",
       "    <tr>\n",
       "      <th>4</th>\n",
       "      <td>1665</td>\n",
       "      <td>Female</td>\n",
       "      <td>79.0</td>\n",
       "      <td>1</td>\n",
       "      <td>0</td>\n",
       "      <td>Yes</td>\n",
       "      <td>Self-employed</td>\n",
       "      <td>Rural</td>\n",
       "      <td>174.12</td>\n",
       "      <td>24.0</td>\n",
       "      <td>never smoked</td>\n",
       "      <td>1</td>\n",
       "    </tr>\n",
       "  </tbody>\n",
       "</table>\n",
       "</div>"
      ],
      "text/plain": [
       "      id  gender   age  hypertension  heart_disease ever_married  \\\n",
       "0   9046    Male  67.0             0              1          Yes   \n",
       "1  51676  Female  61.0             0              0          Yes   \n",
       "2  31112    Male  80.0             0              1          Yes   \n",
       "3  60182  Female  49.0             0              0          Yes   \n",
       "4   1665  Female  79.0             1              0          Yes   \n",
       "\n",
       "       work_type Residence_type  avg_glucose_level   bmi   smoking_status  \\\n",
       "0        Private          Urban             228.69  36.6  formerly smoked   \n",
       "1  Self-employed          Rural             202.21   NaN     never smoked   \n",
       "2        Private          Rural             105.92  32.5     never smoked   \n",
       "3        Private          Urban             171.23  34.4           smokes   \n",
       "4  Self-employed          Rural             174.12  24.0     never smoked   \n",
       "\n",
       "   stroke  \n",
       "0       1  \n",
       "1       1  \n",
       "2       1  \n",
       "3       1  \n",
       "4       1  "
      ]
     },
     "execution_count": 1,
     "metadata": {},
     "output_type": "execute_result"
    }
   ],
   "source": [
    "import pandas as pd\n",
    "file_path = 'healthcare-dataset-stroke-data.csv'\n",
    "\n",
    "df = pd.read_csv(file_path)\n",
    "df.head()"
   ]
  },
  {
   "cell_type": "code",
   "execution_count": 6,
   "id": "2927b23b",
   "metadata": {},
   "outputs": [
    {
     "name": "stdout",
     "output_type": "stream",
     "text": [
      "Requirement already satisfied: matplotlib in c:\\users\\ssawai\\onedrive - infogroup\\desktop\\dax-ds-assignment-2023-shridhar_sawaikar\\data_analytics\\.venv\\lib\\site-packages (3.7.2)Note: you may need to restart the kernel to use updated packages.\n"
     ]
    },
    {
     "name": "stderr",
     "output_type": "stream",
     "text": [
      "\n",
      "[notice] A new release of pip is available: 23.1.2 -> 23.2.1\n",
      "[notice] To update, run: python.exe -m pip install --upgrade pip\n"
     ]
    },
    {
     "name": "stdout",
     "output_type": "stream",
     "text": [
      "\n",
      "Requirement already satisfied: contourpy>=1.0.1 in c:\\users\\ssawai\\onedrive - infogroup\\desktop\\dax-ds-assignment-2023-shridhar_sawaikar\\data_analytics\\.venv\\lib\\site-packages (from matplotlib) (1.1.0)\n",
      "Requirement already satisfied: cycler>=0.10 in c:\\users\\ssawai\\onedrive - infogroup\\desktop\\dax-ds-assignment-2023-shridhar_sawaikar\\data_analytics\\.venv\\lib\\site-packages (from matplotlib) (0.11.0)\n",
      "Requirement already satisfied: fonttools>=4.22.0 in c:\\users\\ssawai\\onedrive - infogroup\\desktop\\dax-ds-assignment-2023-shridhar_sawaikar\\data_analytics\\.venv\\lib\\site-packages (from matplotlib) (4.41.1)\n",
      "Requirement already satisfied: kiwisolver>=1.0.1 in c:\\users\\ssawai\\onedrive - infogroup\\desktop\\dax-ds-assignment-2023-shridhar_sawaikar\\data_analytics\\.venv\\lib\\site-packages (from matplotlib) (1.4.4)\n",
      "Requirement already satisfied: numpy>=1.20 in c:\\users\\ssawai\\onedrive - infogroup\\desktop\\dax-ds-assignment-2023-shridhar_sawaikar\\data_analytics\\.venv\\lib\\site-packages (from matplotlib) (1.25.1)\n",
      "Requirement already satisfied: packaging>=20.0 in c:\\users\\ssawai\\onedrive - infogroup\\desktop\\dax-ds-assignment-2023-shridhar_sawaikar\\data_analytics\\.venv\\lib\\site-packages (from matplotlib) (23.1)\n",
      "Requirement already satisfied: pillow>=6.2.0 in c:\\users\\ssawai\\onedrive - infogroup\\desktop\\dax-ds-assignment-2023-shridhar_sawaikar\\data_analytics\\.venv\\lib\\site-packages (from matplotlib) (10.0.0)\n",
      "Requirement already satisfied: pyparsing<3.1,>=2.3.1 in c:\\users\\ssawai\\onedrive - infogroup\\desktop\\dax-ds-assignment-2023-shridhar_sawaikar\\data_analytics\\.venv\\lib\\site-packages (from matplotlib) (3.0.9)\n",
      "Requirement already satisfied: python-dateutil>=2.7 in c:\\users\\ssawai\\onedrive - infogroup\\desktop\\dax-ds-assignment-2023-shridhar_sawaikar\\data_analytics\\.venv\\lib\\site-packages (from matplotlib) (2.8.2)\n",
      "Requirement already satisfied: six>=1.5 in c:\\users\\ssawai\\onedrive - infogroup\\desktop\\dax-ds-assignment-2023-shridhar_sawaikar\\data_analytics\\.venv\\lib\\site-packages (from python-dateutil>=2.7->matplotlib) (1.16.0)\n"
     ]
    }
   ],
   "source": [
    "pip install matplotlib"
   ]
  },
  {
   "cell_type": "code",
   "execution_count": 2,
   "id": "69902682",
   "metadata": {},
   "outputs": [
    {
     "data": {
      "text/html": [
       "<div>\n",
       "<style scoped>\n",
       "    .dataframe tbody tr th:only-of-type {\n",
       "        vertical-align: middle;\n",
       "    }\n",
       "\n",
       "    .dataframe tbody tr th {\n",
       "        vertical-align: top;\n",
       "    }\n",
       "\n",
       "    .dataframe thead th {\n",
       "        text-align: right;\n",
       "    }\n",
       "</style>\n",
       "<table border=\"1\" class=\"dataframe\">\n",
       "  <thead>\n",
       "    <tr style=\"text-align: right;\">\n",
       "      <th></th>\n",
       "      <th>0</th>\n",
       "    </tr>\n",
       "  </thead>\n",
       "  <tbody>\n",
       "    <tr>\n",
       "      <th>id</th>\n",
       "      <td>0</td>\n",
       "    </tr>\n",
       "    <tr>\n",
       "      <th>gender</th>\n",
       "      <td>0</td>\n",
       "    </tr>\n",
       "    <tr>\n",
       "      <th>age</th>\n",
       "      <td>0</td>\n",
       "    </tr>\n",
       "    <tr>\n",
       "      <th>hypertension</th>\n",
       "      <td>0</td>\n",
       "    </tr>\n",
       "    <tr>\n",
       "      <th>heart_disease</th>\n",
       "      <td>0</td>\n",
       "    </tr>\n",
       "    <tr>\n",
       "      <th>ever_married</th>\n",
       "      <td>0</td>\n",
       "    </tr>\n",
       "    <tr>\n",
       "      <th>work_type</th>\n",
       "      <td>0</td>\n",
       "    </tr>\n",
       "    <tr>\n",
       "      <th>Residence_type</th>\n",
       "      <td>0</td>\n",
       "    </tr>\n",
       "    <tr>\n",
       "      <th>avg_glucose_level</th>\n",
       "      <td>0</td>\n",
       "    </tr>\n",
       "    <tr>\n",
       "      <th>bmi</th>\n",
       "      <td>201</td>\n",
       "    </tr>\n",
       "    <tr>\n",
       "      <th>smoking_status</th>\n",
       "      <td>0</td>\n",
       "    </tr>\n",
       "    <tr>\n",
       "      <th>stroke</th>\n",
       "      <td>0</td>\n",
       "    </tr>\n",
       "  </tbody>\n",
       "</table>\n",
       "</div>"
      ],
      "text/plain": [
       "                     0\n",
       "id                   0\n",
       "gender               0\n",
       "age                  0\n",
       "hypertension         0\n",
       "heart_disease        0\n",
       "ever_married         0\n",
       "work_type            0\n",
       "Residence_type       0\n",
       "avg_glucose_level    0\n",
       "bmi                201\n",
       "smoking_status       0\n",
       "stroke               0"
      ]
     },
     "execution_count": 2,
     "metadata": {},
     "output_type": "execute_result"
    }
   ],
   "source": [
    "import pandas as pd\n",
    "file_path = 'healthcare-dataset-stroke-data.csv'\n",
    "\n",
    "df = pd.read_csv(file_path)\n",
    "df.isnull().sum().to_frame()"
   ]
  },
  {
   "cell_type": "code",
   "execution_count": 3,
   "id": "c204ee58",
   "metadata": {},
   "outputs": [
    {
     "data": {
      "text/html": [
       "<div>\n",
       "<style scoped>\n",
       "    .dataframe tbody tr th:only-of-type {\n",
       "        vertical-align: middle;\n",
       "    }\n",
       "\n",
       "    .dataframe tbody tr th {\n",
       "        vertical-align: top;\n",
       "    }\n",
       "\n",
       "    .dataframe thead th {\n",
       "        text-align: right;\n",
       "    }\n",
       "</style>\n",
       "<table border=\"1\" class=\"dataframe\">\n",
       "  <thead>\n",
       "    <tr style=\"text-align: right;\">\n",
       "      <th></th>\n",
       "      <th>id</th>\n",
       "      <th>age</th>\n",
       "      <th>hypertension</th>\n",
       "      <th>heart_disease</th>\n",
       "      <th>avg_glucose_level</th>\n",
       "      <th>bmi</th>\n",
       "      <th>stroke</th>\n",
       "    </tr>\n",
       "  </thead>\n",
       "  <tbody>\n",
       "    <tr>\n",
       "      <th>count</th>\n",
       "      <td>5110.000000</td>\n",
       "      <td>5110.000000</td>\n",
       "      <td>5110.000000</td>\n",
       "      <td>5110.000000</td>\n",
       "      <td>5110.000000</td>\n",
       "      <td>4909.000000</td>\n",
       "      <td>5110.000000</td>\n",
       "    </tr>\n",
       "    <tr>\n",
       "      <th>mean</th>\n",
       "      <td>36517.829354</td>\n",
       "      <td>43.226614</td>\n",
       "      <td>0.097456</td>\n",
       "      <td>0.054012</td>\n",
       "      <td>106.147677</td>\n",
       "      <td>28.893237</td>\n",
       "      <td>0.048728</td>\n",
       "    </tr>\n",
       "    <tr>\n",
       "      <th>std</th>\n",
       "      <td>21161.721625</td>\n",
       "      <td>22.612647</td>\n",
       "      <td>0.296607</td>\n",
       "      <td>0.226063</td>\n",
       "      <td>45.283560</td>\n",
       "      <td>7.854067</td>\n",
       "      <td>0.215320</td>\n",
       "    </tr>\n",
       "    <tr>\n",
       "      <th>min</th>\n",
       "      <td>67.000000</td>\n",
       "      <td>0.080000</td>\n",
       "      <td>0.000000</td>\n",
       "      <td>0.000000</td>\n",
       "      <td>55.120000</td>\n",
       "      <td>10.300000</td>\n",
       "      <td>0.000000</td>\n",
       "    </tr>\n",
       "    <tr>\n",
       "      <th>25%</th>\n",
       "      <td>17741.250000</td>\n",
       "      <td>25.000000</td>\n",
       "      <td>0.000000</td>\n",
       "      <td>0.000000</td>\n",
       "      <td>77.245000</td>\n",
       "      <td>23.500000</td>\n",
       "      <td>0.000000</td>\n",
       "    </tr>\n",
       "    <tr>\n",
       "      <th>50%</th>\n",
       "      <td>36932.000000</td>\n",
       "      <td>45.000000</td>\n",
       "      <td>0.000000</td>\n",
       "      <td>0.000000</td>\n",
       "      <td>91.885000</td>\n",
       "      <td>28.100000</td>\n",
       "      <td>0.000000</td>\n",
       "    </tr>\n",
       "    <tr>\n",
       "      <th>75%</th>\n",
       "      <td>54682.000000</td>\n",
       "      <td>61.000000</td>\n",
       "      <td>0.000000</td>\n",
       "      <td>0.000000</td>\n",
       "      <td>114.090000</td>\n",
       "      <td>33.100000</td>\n",
       "      <td>0.000000</td>\n",
       "    </tr>\n",
       "    <tr>\n",
       "      <th>max</th>\n",
       "      <td>72940.000000</td>\n",
       "      <td>82.000000</td>\n",
       "      <td>1.000000</td>\n",
       "      <td>1.000000</td>\n",
       "      <td>271.740000</td>\n",
       "      <td>97.600000</td>\n",
       "      <td>1.000000</td>\n",
       "    </tr>\n",
       "  </tbody>\n",
       "</table>\n",
       "</div>"
      ],
      "text/plain": [
       "                 id          age  hypertension  heart_disease  \\\n",
       "count   5110.000000  5110.000000   5110.000000    5110.000000   \n",
       "mean   36517.829354    43.226614      0.097456       0.054012   \n",
       "std    21161.721625    22.612647      0.296607       0.226063   \n",
       "min       67.000000     0.080000      0.000000       0.000000   \n",
       "25%    17741.250000    25.000000      0.000000       0.000000   \n",
       "50%    36932.000000    45.000000      0.000000       0.000000   \n",
       "75%    54682.000000    61.000000      0.000000       0.000000   \n",
       "max    72940.000000    82.000000      1.000000       1.000000   \n",
       "\n",
       "       avg_glucose_level          bmi       stroke  \n",
       "count        5110.000000  4909.000000  5110.000000  \n",
       "mean          106.147677    28.893237     0.048728  \n",
       "std            45.283560     7.854067     0.215320  \n",
       "min            55.120000    10.300000     0.000000  \n",
       "25%            77.245000    23.500000     0.000000  \n",
       "50%            91.885000    28.100000     0.000000  \n",
       "75%           114.090000    33.100000     0.000000  \n",
       "max           271.740000    97.600000     1.000000  "
      ]
     },
     "execution_count": 3,
     "metadata": {},
     "output_type": "execute_result"
    }
   ],
   "source": [
    "df.describe()"
   ]
  },
  {
   "cell_type": "code",
   "execution_count": 4,
   "id": "8338b96e",
   "metadata": {},
   "outputs": [
    {
     "data": {
      "text/plain": [
       "201"
      ]
     },
     "execution_count": 4,
     "metadata": {},
     "output_type": "execute_result"
    }
   ],
   "source": [
    "df['bmi'].isnull().sum()"
   ]
  },
  {
   "cell_type": "code",
   "execution_count": 5,
   "id": "72311028",
   "metadata": {},
   "outputs": [
    {
     "data": {
      "text/plain": [
       "28.893236911794666"
      ]
     },
     "execution_count": 5,
     "metadata": {},
     "output_type": "execute_result"
    }
   ],
   "source": [
    "df['bmi'].mean()"
   ]
  },
  {
   "cell_type": "code",
   "execution_count": 6,
   "id": "078334b0",
   "metadata": {},
   "outputs": [
    {
     "name": "stdout",
     "output_type": "stream",
     "text": [
      "5110\n"
     ]
    }
   ],
   "source": [
    "total_records = df.shape[0]\n",
    "print(total_records)"
   ]
  },
  {
   "cell_type": "code",
   "execution_count": 7,
   "id": "bfe92b1f",
   "metadata": {},
   "outputs": [
    {
     "name": "stdout",
     "output_type": "stream",
     "text": [
      "\n",
      " age\n",
      "Mean:  43.226614481409\n",
      "Median:  45.0\n",
      "Standard Deviation:  22.61264672311349\n",
      "\n",
      " avg_glucose_level\n",
      "Mean:  106.1476771037182\n",
      "Median:  91.88499999999999\n",
      "Standard Deviation:  45.28356015058198\n",
      "\n",
      " bmi\n",
      "Mean:  28.893236911794666\n",
      "Median:  28.1\n",
      "Standard Deviation:  7.854066729680164\n"
     ]
    }
   ],
   "source": [
    "num_cols = ['age','avg_glucose_level','bmi']\n",
    "\n",
    "for i in num_cols:\n",
    "    print(\"\\n\",i)\n",
    "    print(\"Mean: \",df[i].mean())\n",
    "    print(\"Median: \",df[i].median())\n",
    "    print(\"Standard Deviation: \",df[i].std())"
   ]
  },
  {
   "cell_type": "code",
   "execution_count": 8,
   "id": "31dbd647",
   "metadata": {},
   "outputs": [
    {
     "data": {
      "text/plain": [
       "0       False\n",
       "1        True\n",
       "2       False\n",
       "3       False\n",
       "4       False\n",
       "        ...  \n",
       "5105     True\n",
       "5106    False\n",
       "5107    False\n",
       "5108    False\n",
       "5109    False\n",
       "Name: bmi, Length: 5110, dtype: bool"
      ]
     },
     "execution_count": 8,
     "metadata": {},
     "output_type": "execute_result"
    }
   ],
   "source": [
    "df['bmi'].isnull()"
   ]
  },
  {
   "cell_type": "code",
   "execution_count": 9,
   "id": "9418cb3a",
   "metadata": {},
   "outputs": [
    {
     "name": "stdout",
     "output_type": "stream",
     "text": [
      "Percentage null values is:  3.9334637964774952\n"
     ]
    }
   ],
   "source": [
    "total_row = len(df)\n",
    "null_count = df['bmi'].isnull().sum()\n",
    "percentage = (null_count/total_row)*100\n",
    "print(\"Percentage null values is: \",percentage)"
   ]
  },
  {
   "cell_type": "code",
   "execution_count": 20,
   "id": "26d9a958",
   "metadata": {},
   "outputs": [
    {
     "name": "stdout",
     "output_type": "stream",
     "text": [
      "filling null values with median\n"
     ]
    }
   ],
   "source": [
    "med_val = df['bmi'].median()\n",
    "df['bmi'].fillna(med_val,inplace=True)\n",
    "print(\"filling null values with median\")"
   ]
  },
  {
   "cell_type": "code",
   "execution_count": 21,
   "id": "b9f74522",
   "metadata": {},
   "outputs": [
    {
     "name": "stdout",
     "output_type": "stream",
     "text": [
      "filling null values with median\n"
     ]
    }
   ],
   "source": [
    "med_val = df['avg_glucose_level'].median()\n",
    "df['avg_glucose_level'].fillna(med_val,inplace=True)\n",
    "print(\"filling null values with median\")"
   ]
  },
  {
   "cell_type": "code",
   "execution_count": 12,
   "id": "f64e042e",
   "metadata": {},
   "outputs": [
    {
     "data": {
      "text/plain": [
       "0"
      ]
     },
     "execution_count": 12,
     "metadata": {},
     "output_type": "execute_result"
    }
   ],
   "source": [
    "df['bmi'].isnull().sum()"
   ]
  },
  {
   "cell_type": "code",
   "execution_count": 13,
   "id": "74c38611",
   "metadata": {},
   "outputs": [
    {
     "data": {
      "image/png": "[encoded data removed]",
      "text/plain": [
       "<Figure size 640x480 with 1 Axes>"
      ]
     },
     "metadata": {},
     "output_type": "display_data"
    }
   ],
   "source": [
    "import matplotlib.pyplot as plt\n",
    "\n",
    "col_1 = 'age'\n",
    "col_2 = 'avg_glucose_level'\n",
    "\n",
    "df.plot( x=col_1, y=col_2, kind='scatter')\n",
    "plt.xlabel(col_1)\n",
    "plt.ylabel(col_2)\n",
    "plt.title(\"Plot of Average Glucose level vs Age\")\n",
    "plt.show()"
   ]
  },
  {
   "cell_type": "code",
   "execution_count": 14,
   "id": "455259b6",
   "metadata": {},
   "outputs": [
    {
     "data": {
      "image/png": "[encoded data removed]",
      "text/plain": [
       "<Figure size 640x480 with 1 Axes>"
      ]
     },
     "metadata": {},
     "output_type": "display_data"
    }
   ],
   "source": [
    "import pandas as pd\n",
    "import matplotlib.pyplot as plt\n",
    "\n",
    "hypertension_labels = {0: 'No', 1: 'Yes'}\n",
    "df['hypertension'] = df['hypertension'].map(hypertension_labels)\n",
    "\n",
    "df['hypertension'] = df['hypertension'].astype('category')\n",
    "\n",
    "hypertension_counts = df['hypertension'].value_counts()\n",
    "\n",
    "\n",
    "plt.bar(hypertension_counts.index, hypertension_counts.values)\n",
    "plt.xlabel('Hypertension')\n",
    "plt.ylabel('Number of Individuals')\n",
    "plt.title('Number of Individuals with and without Hypertension')\n",
    "plt.show()"
   ]
  },
  {
   "cell_type": "code",
   "execution_count": 15,
   "id": "88f4b654",
   "metadata": {},
   "outputs": [],
   "source": [
    "Q1 = df['bmi'].quantile(0.25)\n",
    "Q3 = df['bmi'].quantile(0.75)\n",
    "IQR = Q3 - Q1\n",
    "\n",
    "IQR_multiplier = 1.5\n",
    "\n",
    "lower_bound = Q1 - IQR_multiplier * IQR\n",
    "upper_bound = Q3 + IQR_multiplier * IQR\n",
    "\n",
    "outliers = df[(df['bmi'] < lower_bound) | (df['bmi'] > upper_bound)]\n",
    "\n",
    "df_cleaned = df.drop(outliers.index)"
   ]
  },
  {
   "cell_type": "code",
   "execution_count": 16,
   "id": "f0a744c4",
   "metadata": {},
   "outputs": [],
   "source": [
    "Q1 = df['avg_glucose_level'].quantile(0.25)\n",
    "Q3 = df['avg_glucose_level'].quantile(0.75)\n",
    "IQR = Q3 - Q1\n",
    "\n",
    "IQR_multiplier = 1.5\n",
    "\n",
    "lower_bound = Q1 - IQR_multiplier * IQR\n",
    "upper_bound = Q3 + IQR_multiplier * IQR\n",
    "\n",
    "outliers = df[(df['avg_glucose_level'] < lower_bound) | (df['avg_glucose_level'] > upper_bound)]\n",
    "\n",
    "df_cleaned = df.drop(outliers.index)"
   ]
  },
  {
   "cell_type": "code",
   "execution_count": 25,
   "id": "569947fc",
   "metadata": {},
   "outputs": [
    {
     "name": "stdout",
     "output_type": "stream",
     "text": [
      "Collecting scikit-learnNote: you may need to restart the kernel to use updated packages.\n"
     ]
    },
    {
     "name": "stderr",
     "output_type": "stream",
     "text": [
      "\n",
      "[notice] A new release of pip is available: 23.1.2 -> 23.2.1\n",
      "[notice] To update, run: python.exe -m pip install --upgrade pip\n"
     ]
    },
    {
     "name": "stdout",
     "output_type": "stream",
     "text": [
      "\n",
      "  Downloading scikit_learn-1.3.0-cp310-cp310-win_amd64.whl (9.2 MB)\n",
      "                                              0.0/9.2 MB ? eta -:--:--\n",
      "                                              0.2/9.2 MB 5.9 MB/s eta 0:00:02\n",
      "     -                                        0.3/9.2 MB 4.8 MB/s eta 0:00:02\n",
      "     -                                        0.4/9.2 MB 3.3 MB/s eta 0:00:03\n",
      "     --                                       0.5/9.2 MB 3.5 MB/s eta 0:00:03\n",
      "     --                                       0.6/9.2 MB 3.1 MB/s eta 0:00:03\n",
      "     --                                       0.7/9.2 MB 3.1 MB/s eta 0:00:03\n",
      "     ---                                      0.8/9.2 MB 2.9 MB/s eta 0:00:03\n",
      "     ---                                      0.9/9.2 MB 2.7 MB/s eta 0:00:04\n",
      "     ----                                     0.9/9.2 MB 2.7 MB/s eta 0:00:04\n",
      "     ----                                     1.0/9.2 MB 2.7 MB/s eta 0:00:04\n",
      "     -----                                    1.2/9.2 MB 2.7 MB/s eta 0:00:03\n",
      "     -----                                    1.2/9.2 MB 2.7 MB/s eta 0:00:03\n",
      "     -----                                    1.4/9.2 MB 2.6 MB/s eta 0:00:04\n",
      "     ------                                   1.4/9.2 MB 2.6 MB/s eta 0:00:03\n",
      "     ------                                   1.5/9.2 MB 2.6 MB/s eta 0:00:04\n",
      "     ------                                   1.6/9.2 MB 2.5 MB/s eta 0:00:04\n",
      "     -------                                  1.7/9.2 MB 2.5 MB/s eta 0:00:04\n",
      "     -------                                  1.8/9.2 MB 2.5 MB/s eta 0:00:03\n",
      "     --------                                 1.9/9.2 MB 2.6 MB/s eta 0:00:03\n",
      "     --------                                 2.1/9.2 MB 2.6 MB/s eta 0:00:03\n",
      "     ---------                                2.2/9.2 MB 2.6 MB/s eta 0:00:03\n",
      "     ----------                               2.3/9.2 MB 2.7 MB/s eta 0:00:03\n",
      "     ----------                               2.4/9.2 MB 2.6 MB/s eta 0:00:03\n",
      "     ----------                               2.4/9.2 MB 2.6 MB/s eta 0:00:03\n",
      "     -----------                              2.6/9.2 MB 2.5 MB/s eta 0:00:03\n",
      "     -----------                              2.6/9.2 MB 2.5 MB/s eta 0:00:03\n",
      "     -----------                              2.7/9.2 MB 2.6 MB/s eta 0:00:03\n",
      "     ------------                             2.9/9.2 MB 2.6 MB/s eta 0:00:03\n",
      "     -------------                            3.1/9.2 MB 2.6 MB/s eta 0:00:03\n",
      "     -------------                            3.2/9.2 MB 2.6 MB/s eta 0:00:03\n",
      "     --------------                           3.3/9.2 MB 2.6 MB/s eta 0:00:03\n",
      "     --------------                           3.4/9.2 MB 2.6 MB/s eta 0:00:03\n",
      "     ---------------                          3.5/9.2 MB 2.6 MB/s eta 0:00:03\n",
      "     ---------------                          3.6/9.2 MB 2.6 MB/s eta 0:00:03\n",
      "     ----------------                         3.7/9.2 MB 2.6 MB/s eta 0:00:03\n",
      "     ----------------                         3.9/9.2 MB 2.7 MB/s eta 0:00:03\n",
      "     -----------------                        4.0/9.2 MB 2.7 MB/s eta 0:00:02\n",
      "     -----------------                        4.1/9.2 MB 2.6 MB/s eta 0:00:02\n",
      "     ------------------                       4.2/9.2 MB 2.7 MB/s eta 0:00:02\n",
      "     ------------------                       4.4/9.2 MB 2.7 MB/s eta 0:00:02\n",
      "     -------------------                      4.5/9.2 MB 2.7 MB/s eta 0:00:02\n",
      "     -------------------                      4.6/9.2 MB 2.7 MB/s eta 0:00:02\n",
      "     --------------------                     4.8/9.2 MB 2.7 MB/s eta 0:00:02\n",
      "     ---------------------                    4.9/9.2 MB 2.7 MB/s eta 0:00:02\n",
      "     ---------------------                    4.9/9.2 MB 2.7 MB/s eta 0:00:02\n",
      "     ---------------------                    5.1/9.2 MB 2.7 MB/s eta 0:00:02\n",
      "     ----------------------                   5.2/9.2 MB 2.7 MB/s eta 0:00:02\n",
      "     ----------------------                   5.2/9.2 MB 2.7 MB/s eta 0:00:02\n",
      "     ----------------------                   5.3/9.2 MB 2.7 MB/s eta 0:00:02\n",
      "     -----------------------                  5.4/9.2 MB 2.6 MB/s eta 0:00:02\n",
      "     ------------------------                 5.6/9.2 MB 2.7 MB/s eta 0:00:02\n",
      "     ------------------------                 5.7/9.2 MB 2.7 MB/s eta 0:00:02\n",
      "     -------------------------                5.8/9.2 MB 2.7 MB/s eta 0:00:02\n",
      "     -------------------------                5.9/9.2 MB 2.7 MB/s eta 0:00:02\n",
      "     -------------------------                6.0/9.2 MB 2.7 MB/s eta 0:00:02\n",
      "     --------------------------               6.1/9.2 MB 2.7 MB/s eta 0:00:02\n",
      "     --------------------------               6.1/9.2 MB 2.6 MB/s eta 0:00:02\n",
      "     ---------------------------              6.2/9.2 MB 2.6 MB/s eta 0:00:02\n",
      "     ---------------------------              6.3/9.2 MB 2.6 MB/s eta 0:00:02\n",
      "     ---------------------------              6.4/9.2 MB 2.6 MB/s eta 0:00:02\n",
      "     ----------------------------             6.5/9.2 MB 2.6 MB/s eta 0:00:02\n",
      "     ----------------------------             6.6/9.2 MB 2.6 MB/s eta 0:00:02\n",
      "     -----------------------------            6.7/9.2 MB 2.6 MB/s eta 0:00:01\n",
      "     -----------------------------            6.8/9.2 MB 2.6 MB/s eta 0:00:01\n",
      "     -----------------------------            6.8/9.2 MB 2.6 MB/s eta 0:00:01\n",
      "     -----------------------------            6.8/9.2 MB 2.5 MB/s eta 0:00:01\n",
      "     -----------------------------            6.8/9.2 MB 2.5 MB/s eta 0:00:01\n",
      "     -----------------------------            6.9/9.2 MB 2.5 MB/s eta 0:00:01\n",
      "     ------------------------------           7.0/9.2 MB 2.5 MB/s eta 0:00:01\n",
      "     ------------------------------           7.1/9.2 MB 2.5 MB/s eta 0:00:01\n",
      "     -------------------------------          7.2/9.2 MB 2.5 MB/s eta 0:00:01\n",
      "     -------------------------------          7.4/9.2 MB 2.5 MB/s eta 0:00:01\n",
      "     --------------------------------         7.5/9.2 MB 2.5 MB/s eta 0:00:01\n",
      "     --------------------------------         7.5/9.2 MB 2.5 MB/s eta 0:00:01\n",
      "     ---------------------------------        7.6/9.2 MB 2.5 MB/s eta 0:00:01\n",
      "     ---------------------------------        7.7/9.2 MB 2.5 MB/s eta 0:00:01\n",
      "     ---------------------------------        7.8/9.2 MB 2.5 MB/s eta 0:00:01\n",
      "     ----------------------------------       7.9/9.2 MB 2.5 MB/s eta 0:00:01\n",
      "     ----------------------------------       8.0/9.2 MB 2.5 MB/s eta 0:00:01\n",
      "     -----------------------------------      8.1/9.2 MB 2.5 MB/s eta 0:00:01\n",
      "     -----------------------------------      8.2/9.2 MB 2.5 MB/s eta 0:00:01\n",
      "     ------------------------------------     8.3/9.2 MB 2.5 MB/s eta 0:00:01\n",
      "     ------------------------------------     8.4/9.2 MB 2.5 MB/s eta 0:00:01\n",
      "     ------------------------------------     8.5/9.2 MB 2.5 MB/s eta 0:00:01\n",
      "     -------------------------------------    8.6/9.2 MB 2.5 MB/s eta 0:00:01\n",
      "     -------------------------------------    8.7/9.2 MB 2.5 MB/s eta 0:00:01\n",
      "     -------------------------------------    8.8/9.2 MB 2.4 MB/s eta 0:00:01\n",
      "     --------------------------------------   8.9/9.2 MB 2.4 MB/s eta 0:00:01\n",
      "     --------------------------------------   9.0/9.2 MB 2.4 MB/s eta 0:00:01\n",
      "     ---------------------------------------  9.0/9.2 MB 2.4 MB/s eta 0:00:01\n",
      "     ---------------------------------------  9.2/9.2 MB 2.4 MB/s eta 0:00:01\n",
      "     ---------------------------------------  9.2/9.2 MB 2.4 MB/s eta 0:00:01\n",
      "     ---------------------------------------- 9.2/9.2 MB 2.4 MB/s eta 0:00:00\n",
      "Requirement already satisfied: numpy>=1.17.3 in c:\\users\\ssawai\\onedrive - infogroup\\desktop\\dax-ds-assignment-2023-shridhar_sawaikar\\data_analytics\\.venv\\lib\\site-packages (from scikit-learn) (1.25.1)\n",
      "Collecting scipy>=1.5.0 (from scikit-learn)\n",
      "  Downloading scipy-1.11.1-cp310-cp310-win_amd64.whl (44.0 MB)\n",
      "                                              0.0/44.0 MB ? eta -:--:--\n",
      "                                              0.1/44.0 MB 3.8 MB/s eta 0:00:12\n",
      "                                              0.2/44.0 MB 2.9 MB/s eta 0:00:16\n",
      "                                              0.3/44.0 MB 2.6 MB/s eta 0:00:17\n",
      "                                              0.5/44.0 MB 3.0 MB/s eta 0:00:15\n",
      "                                              0.6/44.0 MB 2.7 MB/s eta 0:00:16\n",
      "                                              0.7/44.0 MB 2.7 MB/s eta 0:00:17\n",
      "                                              0.8/44.0 MB 2.8 MB/s eta 0:00:16\n",
      "                                              1.0/44.0 MB 2.9 MB/s eta 0:00:15\n",
      "     -                                        1.1/44.0 MB 2.9 MB/s eta 0:00:15\n",
      "     -                                        1.2/44.0 MB 3.0 MB/s eta 0:00:15\n",
      "     -                                        1.3/44.0 MB 2.8 MB/s eta 0:00:15\n",
      "     -                                        1.4/44.0 MB 2.9 MB/s eta 0:00:15\n",
      "     -                                        1.5/44.0 MB 2.8 MB/s eta 0:00:16\n",
      "     -                                        1.7/44.0 MB 2.9 MB/s eta 0:00:15\n",
      "     -                                        1.7/44.0 MB 2.8 MB/s eta 0:00:15\n",
      "     -                                        1.9/44.0 MB 2.8 MB/s eta 0:00:16\n",
      "     -                                        2.0/44.0 MB 2.9 MB/s eta 0:00:15\n",
      "     -                                        2.1/44.0 MB 2.8 MB/s eta 0:00:15\n",
      "     --                                       2.3/44.0 MB 3.0 MB/s eta 0:00:15\n",
      "     --                                       2.4/44.0 MB 2.9 MB/s eta 0:00:15\n",
      "     --                                       2.6/44.0 MB 3.0 MB/s eta 0:00:14\n",
      "     --                                       2.7/44.0 MB 3.0 MB/s eta 0:00:14\n",
      "     --                                       2.9/44.0 MB 3.1 MB/s eta 0:00:14\n",
      "     --                                       3.0/44.0 MB 3.1 MB/s eta 0:00:14\n",
      "     --                                       3.1/44.0 MB 3.1 MB/s eta 0:00:14\n",
      "     --                                       3.2/44.0 MB 3.0 MB/s eta 0:00:14\n",
      "     ---                                      3.4/44.0 MB 3.0 MB/s eta 0:00:14\n",
      "     ---                                      3.5/44.0 MB 3.1 MB/s eta 0:00:14\n",
      "     ---                                      3.7/44.0 MB 3.1 MB/s eta 0:00:13\n",
      "     ---                                      3.9/44.0 MB 3.1 MB/s eta 0:00:13\n",
      "     ---                                      4.1/44.0 MB 3.2 MB/s eta 0:00:13\n",
      "     ---                                      4.2/44.0 MB 3.2 MB/s eta 0:00:13\n",
      "     ----                                     4.4/44.0 MB 3.2 MB/s eta 0:00:13\n",
      "     ----                                     4.7/44.0 MB 3.3 MB/s eta 0:00:12\n",
      "     ----                                     4.8/44.0 MB 3.3 MB/s eta 0:00:12\n",
      "     ----                                     5.1/44.0 MB 3.4 MB/s eta 0:00:12\n",
      "     ----                                     5.2/44.0 MB 3.4 MB/s eta 0:00:12\n",
      "     ----                                     5.4/44.0 MB 3.5 MB/s eta 0:00:12\n",
      "     -----                                    5.6/44.0 MB 3.5 MB/s eta 0:00:11\n",
      "     -----                                    5.7/44.0 MB 3.5 MB/s eta 0:00:11\n",
      "     -----                                    5.8/44.0 MB 3.5 MB/s eta 0:00:11\n",
      "     -----                                    5.9/44.0 MB 3.4 MB/s eta 0:00:12\n",
      "     -----                                    6.1/44.0 MB 3.4 MB/s eta 0:00:12\n",
      "     -----                                    6.3/44.0 MB 3.5 MB/s eta 0:00:11\n",
      "     -----                                    6.5/44.0 MB 3.5 MB/s eta 0:00:11\n",
      "     ------                                   6.7/44.0 MB 3.5 MB/s eta 0:00:11\n",
      "     ------                                   6.8/44.0 MB 3.5 MB/s eta 0:00:11\n",
      "     ------                                   7.0/44.0 MB 3.6 MB/s eta 0:00:11\n",
      "     ------                                   7.2/44.0 MB 3.6 MB/s eta 0:00:11\n",
      "     ------                                   7.4/44.0 MB 3.6 MB/s eta 0:00:11\n",
      "     ------                                   7.6/44.0 MB 3.6 MB/s eta 0:00:11\n",
      "     -------                                  7.8/44.0 MB 3.6 MB/s eta 0:00:10\n",
      "     -------                                  7.9/44.0 MB 3.6 MB/s eta 0:00:10\n",
      "     -------                                  8.1/44.0 MB 3.7 MB/s eta 0:00:10\n",
      "     -------                                  8.3/44.0 MB 3.7 MB/s eta 0:00:10\n",
      "     -------                                  8.5/44.0 MB 3.7 MB/s eta 0:00:10\n",
      "     -------                                  8.6/44.0 MB 3.7 MB/s eta 0:00:10\n",
      "     --------                                 8.8/44.0 MB 3.7 MB/s eta 0:00:10\n",
      "     --------                                 8.9/44.0 MB 3.7 MB/s eta 0:00:10\n",
      "     --------                                 9.1/44.0 MB 3.7 MB/s eta 0:00:10\n",
      "     --------                                 9.2/44.0 MB 3.7 MB/s eta 0:00:10\n",
      "     --------                                 9.3/44.0 MB 3.7 MB/s eta 0:00:10\n",
      "     --------                                 9.5/44.0 MB 3.7 MB/s eta 0:00:10\n",
      "     --------                                 9.6/44.0 MB 3.7 MB/s eta 0:00:10\n",
      "     --------                                 9.7/44.0 MB 3.7 MB/s eta 0:00:10\n",
      "     ---------                                10.0/44.0 MB 3.7 MB/s eta 0:00:10\n",
      "     ---------                                10.2/44.0 MB 3.7 MB/s eta 0:00:10\n",
      "     ---------                                10.4/44.0 MB 3.7 MB/s eta 0:00:09\n",
      "     ---------                                10.6/44.0 MB 3.8 MB/s eta 0:00:09\n",
      "     ---------                                10.7/44.0 MB 3.8 MB/s eta 0:00:09\n",
      "     ---------                                10.9/44.0 MB 3.9 MB/s eta 0:00:09\n",
      "     ---------                                11.0/44.0 MB 3.8 MB/s eta 0:00:09\n",
      "     ----------                               11.1/44.0 MB 3.8 MB/s eta 0:00:09\n",
      "     ----------                               11.4/44.0 MB 3.9 MB/s eta 0:00:09\n",
      "     ----------                               11.5/44.0 MB 3.9 MB/s eta 0:00:09\n",
      "     ----------                               11.7/44.0 MB 3.9 MB/s eta 0:00:09\n",
      "     ----------                               11.8/44.0 MB 3.9 MB/s eta 0:00:09\n",
      "     ----------                               12.0/44.0 MB 4.0 MB/s eta 0:00:09\n",
      "     -----------                              12.3/44.0 MB 4.1 MB/s eta 0:00:08\n",
      "     -----------                              12.5/44.0 MB 4.1 MB/s eta 0:00:08\n",
      "     -----------                              12.7/44.0 MB 4.1 MB/s eta 0:00:08\n",
      "     -----------                              13.0/44.0 MB 4.1 MB/s eta 0:00:08\n",
      "     ------------                             13.2/44.0 MB 4.2 MB/s eta 0:00:08\n",
      "     ------------                             13.5/44.0 MB 4.3 MB/s eta 0:00:08\n",
      "     ------------                             13.7/44.0 MB 4.3 MB/s eta 0:00:08\n",
      "     ------------                             13.9/44.0 MB 4.4 MB/s eta 0:00:07\n",
      "     ------------                             14.2/44.0 MB 4.4 MB/s eta 0:00:07\n",
      "     -------------                            14.3/44.0 MB 4.4 MB/s eta 0:00:07\n",
      "     -------------                            14.5/44.0 MB 4.4 MB/s eta 0:00:07\n",
      "     -------------                            14.7/44.0 MB 4.4 MB/s eta 0:00:07\n",
      "     -------------                            15.0/44.0 MB 4.4 MB/s eta 0:00:07\n",
      "     -------------                            15.2/44.0 MB 4.4 MB/s eta 0:00:07\n",
      "     -------------                            15.3/44.0 MB 4.4 MB/s eta 0:00:07\n",
      "     --------------                           15.6/44.0 MB 4.4 MB/s eta 0:00:07\n",
      "     --------------                           15.9/44.0 MB 4.5 MB/s eta 0:00:07\n",
      "     --------------                           16.2/44.0 MB 4.6 MB/s eta 0:00:07\n",
      "     --------------                           16.4/44.0 MB 4.6 MB/s eta 0:00:06\n",
      "     ---------------                          16.7/44.0 MB 4.6 MB/s eta 0:00:06\n",
      "     ---------------                          16.9/44.0 MB 4.6 MB/s eta 0:00:06\n",
      "     ---------------                          17.0/44.0 MB 4.7 MB/s eta 0:00:06\n",
      "     ---------------                          17.3/44.0 MB 4.7 MB/s eta 0:00:06\n",
      "     ---------------                          17.5/44.0 MB 4.7 MB/s eta 0:00:06\n",
      "     ---------------                          17.6/44.0 MB 4.7 MB/s eta 0:00:06\n",
      "     ----------------                         17.8/44.0 MB 4.7 MB/s eta 0:00:06\n",
      "     ----------------                         18.1/44.0 MB 4.7 MB/s eta 0:00:06\n",
      "     ----------------                         18.3/44.0 MB 4.7 MB/s eta 0:00:06\n",
      "     ----------------                         18.5/44.0 MB 4.7 MB/s eta 0:00:06\n",
      "     -----------------                        18.8/44.0 MB 4.8 MB/s eta 0:00:06\n",
      "     -----------------                        19.0/44.0 MB 4.8 MB/s eta 0:00:06\n",
      "     -----------------                        19.2/44.0 MB 4.9 MB/s eta 0:00:06\n",
      "     -----------------                        19.4/44.0 MB 5.0 MB/s eta 0:00:05\n",
      "     -----------------                        19.7/44.0 MB 5.0 MB/s eta 0:00:05\n",
      "     ------------------                       19.9/44.0 MB 5.1 MB/s eta 0:00:05\n",
      "     ------------------                       20.1/44.0 MB 5.1 MB/s eta 0:00:05\n",
      "     ------------------                       20.3/44.0 MB 5.1 MB/s eta 0:00:05\n",
      "     ------------------                       20.5/44.0 MB 5.1 MB/s eta 0:00:05\n",
      "     ------------------                       20.7/44.0 MB 5.1 MB/s eta 0:00:05\n",
      "     ------------------                       20.9/44.0 MB 5.1 MB/s eta 0:00:05\n",
      "     -------------------                      21.0/44.0 MB 5.1 MB/s eta 0:00:05\n",
      "     -------------------                      21.2/44.0 MB 5.1 MB/s eta 0:00:05\n",
      "     -------------------                      21.4/44.0 MB 5.2 MB/s eta 0:00:05\n",
      "     -------------------                      21.6/44.0 MB 5.2 MB/s eta 0:00:05\n",
      "     -------------------                      21.9/44.0 MB 5.2 MB/s eta 0:00:05\n",
      "     --------------------                     22.1/44.0 MB 5.3 MB/s eta 0:00:05\n",
      "     --------------------                     22.4/44.0 MB 5.3 MB/s eta 0:00:05\n",
      "     --------------------                     22.6/44.0 MB 5.4 MB/s eta 0:00:04\n",
      "     --------------------                     22.8/44.0 MB 5.3 MB/s eta 0:00:04\n",
      "     --------------------                     23.0/44.0 MB 5.3 MB/s eta 0:00:04\n",
      "     ---------------------                    23.3/44.0 MB 5.3 MB/s eta 0:00:04\n",
      "     ---------------------                    23.6/44.0 MB 5.3 MB/s eta 0:00:04\n",
      "     ---------------------                    23.8/44.0 MB 5.3 MB/s eta 0:00:04\n",
      "     ---------------------                    24.0/44.0 MB 5.3 MB/s eta 0:00:04\n",
      "     ----------------------                   24.2/44.0 MB 5.3 MB/s eta 0:00:04\n",
      "     ----------------------                   24.4/44.0 MB 5.3 MB/s eta 0:00:04\n",
      "     ----------------------                   24.6/44.0 MB 5.3 MB/s eta 0:00:04\n",
      "     ----------------------                   24.9/44.0 MB 5.4 MB/s eta 0:00:04\n",
      "     ----------------------                   25.2/44.0 MB 5.4 MB/s eta 0:00:04\n",
      "     -----------------------                  25.4/44.0 MB 5.4 MB/s eta 0:00:04\n",
      "     -----------------------                  25.7/44.0 MB 5.4 MB/s eta 0:00:04\n",
      "     -----------------------                  25.8/44.0 MB 5.4 MB/s eta 0:00:04\n",
      "     -----------------------                  26.1/44.0 MB 5.4 MB/s eta 0:00:04\n",
      "     -----------------------                  26.3/44.0 MB 5.3 MB/s eta 0:00:04\n",
      "     ------------------------                 26.5/44.0 MB 5.3 MB/s eta 0:00:04\n",
      "     ------------------------                 26.7/44.0 MB 5.3 MB/s eta 0:00:04\n",
      "     ------------------------                 26.8/44.0 MB 5.3 MB/s eta 0:00:04\n",
      "     ------------------------                 27.1/44.0 MB 5.3 MB/s eta 0:00:04\n",
      "     ------------------------                 27.3/44.0 MB 5.3 MB/s eta 0:00:04\n",
      "     ------------------------                 27.4/44.0 MB 5.2 MB/s eta 0:00:04\n",
      "     -------------------------                27.6/44.0 MB 5.2 MB/s eta 0:00:04\n",
      "     -------------------------                27.8/44.0 MB 5.3 MB/s eta 0:00:04\n",
      "     -------------------------                28.0/44.0 MB 5.2 MB/s eta 0:00:04\n",
      "     -------------------------                28.3/44.0 MB 5.3 MB/s eta 0:00:03\n",
      "     -------------------------                28.5/44.0 MB 5.3 MB/s eta 0:00:03\n",
      "     -------------------------                28.6/44.0 MB 5.2 MB/s eta 0:00:03\n",
      "     --------------------------               28.9/44.0 MB 5.2 MB/s eta 0:00:03\n",
      "     --------------------------               29.1/44.0 MB 5.2 MB/s eta 0:00:03\n",
      "     --------------------------               29.2/44.0 MB 5.2 MB/s eta 0:00:03\n",
      "     --------------------------               29.4/44.0 MB 5.2 MB/s eta 0:00:03\n",
      "     --------------------------               29.5/44.0 MB 5.2 MB/s eta 0:00:03\n",
      "     ---------------------------              29.7/44.0 MB 5.1 MB/s eta 0:00:03\n",
      "     ---------------------------              29.9/44.0 MB 5.1 MB/s eta 0:00:03\n",
      "     ---------------------------              30.1/44.0 MB 5.1 MB/s eta 0:00:03\n",
      "     ---------------------------              30.3/44.0 MB 5.1 MB/s eta 0:00:03\n",
      "     ---------------------------              30.4/44.0 MB 5.1 MB/s eta 0:00:03\n",
      "     ---------------------------              30.7/44.0 MB 5.1 MB/s eta 0:00:03\n",
      "     ----------------------------             30.9/44.0 MB 5.0 MB/s eta 0:00:03\n",
      "     ----------------------------             31.1/44.0 MB 5.1 MB/s eta 0:00:03\n",
      "     ----------------------------             31.4/44.0 MB 5.2 MB/s eta 0:00:03\n",
      "     ----------------------------             31.5/44.0 MB 5.2 MB/s eta 0:00:03\n",
      "     ----------------------------             31.8/44.0 MB 5.2 MB/s eta 0:00:03\n",
      "     -----------------------------            32.0/44.0 MB 5.2 MB/s eta 0:00:03\n",
      "     -----------------------------            32.3/44.0 MB 5.2 MB/s eta 0:00:03\n",
      "     -----------------------------            32.5/44.0 MB 5.2 MB/s eta 0:00:03\n",
      "     -----------------------------            32.6/44.0 MB 5.2 MB/s eta 0:00:03\n",
      "     -----------------------------            33.0/44.0 MB 5.2 MB/s eta 0:00:03\n",
      "     ------------------------------           33.2/44.0 MB 5.2 MB/s eta 0:00:03\n",
      "     ------------------------------           33.4/44.0 MB 5.2 MB/s eta 0:00:03\n",
      "     ------------------------------           33.7/44.0 MB 5.2 MB/s eta 0:00:02\n",
      "     ------------------------------           33.9/44.0 MB 5.2 MB/s eta 0:00:02\n",
      "     ------------------------------           34.0/44.0 MB 5.2 MB/s eta 0:00:02\n",
      "     -------------------------------          34.3/44.0 MB 5.2 MB/s eta 0:00:02\n",
      "     -------------------------------          34.5/44.0 MB 5.2 MB/s eta 0:00:02\n",
      "     -------------------------------          34.8/44.0 MB 5.2 MB/s eta 0:00:02\n",
      "     -------------------------------          35.0/44.0 MB 5.2 MB/s eta 0:00:02\n",
      "     --------------------------------         35.3/44.0 MB 5.2 MB/s eta 0:00:02\n",
      "     --------------------------------         35.5/44.0 MB 5.2 MB/s eta 0:00:02\n",
      "     --------------------------------         35.8/44.0 MB 5.2 MB/s eta 0:00:02\n",
      "     --------------------------------         36.1/44.0 MB 5.3 MB/s eta 0:00:02\n",
      "     ---------------------------------        36.3/44.0 MB 5.3 MB/s eta 0:00:02\n",
      "     ---------------------------------        36.6/44.0 MB 5.4 MB/s eta 0:00:02\n",
      "     ---------------------------------        36.9/44.0 MB 5.3 MB/s eta 0:00:02\n",
      "     ---------------------------------        37.1/44.0 MB 5.4 MB/s eta 0:00:02\n",
      "     ---------------------------------        37.3/44.0 MB 5.4 MB/s eta 0:00:02\n",
      "     ----------------------------------       37.6/44.0 MB 5.4 MB/s eta 0:00:02\n",
      "     ----------------------------------       37.8/44.0 MB 5.5 MB/s eta 0:00:02\n",
      "     ----------------------------------       38.1/44.0 MB 5.5 MB/s eta 0:00:02\n",
      "     ----------------------------------       38.4/44.0 MB 5.5 MB/s eta 0:00:02\n",
      "     -----------------------------------      38.6/44.0 MB 5.5 MB/s eta 0:00:01\n",
      "     -----------------------------------      38.9/44.0 MB 5.7 MB/s eta 0:00:01\n",
      "     -----------------------------------      39.1/44.0 MB 5.6 MB/s eta 0:00:01\n",
      "     -----------------------------------      39.3/44.0 MB 5.7 MB/s eta 0:00:01\n",
      "     -----------------------------------      39.5/44.0 MB 5.7 MB/s eta 0:00:01\n",
      "     ------------------------------------     39.8/44.0 MB 5.7 MB/s eta 0:00:01\n",
      "     ------------------------------------     40.1/44.0 MB 5.8 MB/s eta 0:00:01\n",
      "     ------------------------------------     40.3/44.0 MB 5.9 MB/s eta 0:00:01\n",
      "     ------------------------------------     40.6/44.0 MB 6.0 MB/s eta 0:00:01\n",
      "     -------------------------------------    40.8/44.0 MB 6.0 MB/s eta 0:00:01\n",
      "     -------------------------------------    41.1/44.0 MB 6.0 MB/s eta 0:00:01\n",
      "     -------------------------------------    41.4/44.0 MB 6.1 MB/s eta 0:00:01\n",
      "     -------------------------------------    41.7/44.0 MB 6.1 MB/s eta 0:00:01\n",
      "     --------------------------------------   41.9/44.0 MB 6.1 MB/s eta 0:00:01\n",
      "     --------------------------------------   42.1/44.0 MB 6.1 MB/s eta 0:00:01\n",
      "     --------------------------------------   42.4/44.0 MB 6.1 MB/s eta 0:00:01\n",
      "     --------------------------------------   42.6/44.0 MB 6.1 MB/s eta 0:00:01\n",
      "     --------------------------------------   42.8/44.0 MB 6.1 MB/s eta 0:00:01\n",
      "     ---------------------------------------  43.1/44.0 MB 6.1 MB/s eta 0:00:01\n",
      "     ---------------------------------------  43.4/44.0 MB 6.1 MB/s eta 0:00:01\n",
      "     ---------------------------------------  43.7/44.0 MB 6.2 MB/s eta 0:00:01\n",
      "     ---------------------------------------  44.0/44.0 MB 6.2 MB/s eta 0:00:01\n",
      "     ---------------------------------------  44.0/44.0 MB 6.1 MB/s eta 0:00:01\n",
      "     ---------------------------------------  44.0/44.0 MB 6.1 MB/s eta 0:00:01\n",
      "     ---------------------------------------- 44.0/44.0 MB 5.7 MB/s eta 0:00:00\n",
      "Collecting joblib>=1.1.1 (from scikit-learn)\n",
      "  Downloading joblib-1.3.1-py3-none-any.whl (301 kB)\n",
      "                                              0.0/302.0 kB ? eta -:--:--\n",
      "     ------------------                     143.4/302.0 kB 4.3 MB/s eta 0:00:01\n",
      "     --------------------                   163.8/302.0 kB 2.5 MB/s eta 0:00:01\n",
      "     -------------------------------------  297.0/302.0 kB 2.6 MB/s eta 0:00:01\n",
      "     -------------------------------------- 302.0/302.0 kB 2.7 MB/s eta 0:00:00\n",
      "Collecting threadpoolctl>=2.0.0 (from scikit-learn)\n",
      "  Downloading threadpoolctl-3.2.0-py3-none-any.whl (15 kB)\n",
      "Installing collected packages: threadpoolctl, scipy, joblib, scikit-learn\n",
      "Successfully installed joblib-1.3.1 scikit-learn-1.3.0 scipy-1.11.1 threadpoolctl-3.2.0\n"
     ]
    }
   ],
   "source": [
    "pip install scikit-learn"
   ]
  },
  {
   "cell_type": "code",
   "execution_count": 22,
   "id": "2973454f",
   "metadata": {},
   "outputs": [
    {
     "name": "stdout",
     "output_type": "stream",
     "text": [
      "      id  gender   age  hypertension  heart_disease ever_married  \\\n",
      "0   9046    Male  67.0             0              1          Yes   \n",
      "1  51676  Female  61.0             0              0          Yes   \n",
      "2  31112    Male  80.0             0              1          Yes   \n",
      "3  60182  Female  49.0             0              0          Yes   \n",
      "4   1665  Female  79.0             1              0          Yes   \n",
      "\n",
      "       work_type Residence_type  avg_glucose_level   bmi   smoking_status  \\\n",
      "0        Private          Urban             228.69  36.6  formerly smoked   \n",
      "1  Self-employed          Rural             202.21  28.1     never smoked   \n",
      "2        Private          Rural             105.92  32.5     never smoked   \n",
      "3        Private          Urban             171.23  34.4           smokes   \n",
      "4  Self-employed          Rural             174.12  24.0     never smoked   \n",
      "\n",
      "   stroke  \n",
      "0       1  \n",
      "1       1  \n",
      "2       1  \n",
      "3       1  \n",
      "4       1  \n",
      "    bmi  avg_glucose_level    bmi^2  bmi avg_glucose_level  \\\n",
      "0  36.6             228.69  1339.56               8370.054   \n",
      "1  28.1             202.21   789.61               5682.101   \n",
      "2  32.5             105.92  1056.25               3442.400   \n",
      "3  34.4             171.23  1183.36               5890.312   \n",
      "4  24.0             174.12   576.00               4178.880   \n",
      "\n",
      "   avg_glucose_level^2  \n",
      "0           52299.1161  \n",
      "1           40888.8841  \n",
      "2           11219.0464  \n",
      "3           29319.7129  \n",
      "4           30317.7744  \n"
     ]
    }
   ],
   "source": [
    "import pandas as pd\n",
    "from sklearn.preprocessing import PolynomialFeatures\n",
    "\n",
    "feature_col = ['bmi','avg_glucose_level']\n",
    "\n",
    "poly = PolynomialFeatures(degree=2, include_bias=False)\n",
    "new_features = poly.fit_transform(df[feature_col])\n",
    "df_poly = pd.DataFrame(new_features)\n",
    "\n",
    "df_poly.columns = poly.get_feature_names_out(feature_col)\n",
    "\n",
    "print(df.head())\n",
    "\n",
    "print(df_poly.head())"
   ]
  },
  {
   "cell_type": "code",
   "execution_count": 23,
   "id": "90b1f484",
   "metadata": {},
   "outputs": [],
   "source": [
    "bin_edges = [0,18.9,24.9,29.9,39.9]\n",
    "bin_labels = ['Underweight','Normal','Overweight','Obese']\n",
    "\n",
    "df['bmi'].fillna(df['bmi'].mean(), inplace=True)\n",
    "df['bmi'] = df['bmi'].round(2)\n",
    "\n",
    "min_bmi = df['bmi'].min()\n",
    "max_bmi = df['bmi'].max()\n",
    "if min_bmi < bin_edges[0]:\n",
    "    bin_edges[0] = min_bmi\n",
    "if max_bmi > bin_edges[-1]:\n",
    "    bin_edges[-1] = max_bmi\n",
    "\n",
    "df['bmi_category'] = pd.cut(df['bmi'],bins=bin_edges,labels=bin_labels,right=True)"
   ]
  },
  {
   "cell_type": "code",
   "execution_count": 31,
   "id": "d8d180c0",
   "metadata": {},
   "outputs": [
    {
     "name": "stdout",
     "output_type": "stream",
     "text": [
      "bmi_category\n",
      "Obese          1920\n",
      "Overweight     1610\n",
      "Normal         1176\n",
      "Underweight     404\n",
      "Name: count, dtype: int64\n"
     ]
    }
   ],
   "source": [
    "print(df['bmi_category'].value_counts())"
   ]
  },
  {
   "cell_type": "code",
   "execution_count": 24,
   "id": "6d236e7f",
   "metadata": {},
   "outputs": [
    {
     "name": "stdout",
     "output_type": "stream",
     "text": [
      "age_category\n",
      "Senior        2210\n",
      "Adult         2044\n",
      "Children       543\n",
      "Adolescent     313\n",
      "Name: count, dtype: int64\n"
     ]
    }
   ],
   "source": [
    "age_values = [0,12,18,50,90]\n",
    "age_labels = ['Children','Adolescent','Adult','Senior']\n",
    "\n",
    "df['age'] = df['age'].round().astype(int)\n",
    "df['age'] = df['age'].fillna(df['age'].mean())\n",
    "\n",
    "df['age_category'] = pd.cut(df['age'],bins=age_values,labels=age_labels,right=False)\n",
    "\n",
    "print(df['age_category'].value_counts())"
   ]
  },
  {
   "cell_type": "code",
   "execution_count": 33,
   "id": "831087e3",
   "metadata": {},
   "outputs": [
    {
     "name": "stdout",
     "output_type": "stream",
     "text": [
      "age_category\n",
      "Senior        2210\n",
      "Adult         2044\n",
      "Children       543\n",
      "Adolescent     313\n",
      "Name: count, dtype: int64\n"
     ]
    }
   ],
   "source": [
    "print(df['age_category'].value_counts())"
   ]
  },
  {
   "cell_type": "code",
   "execution_count": 36,
   "id": "bb91fed3",
   "metadata": {},
   "outputs": [
    {
     "name": "stdout",
     "output_type": "stream",
     "text": [
      "Collecting seaborn\n",
      "  Downloading seaborn-0.12.2-py3-none-any.whl (293 kB)\n",
      "                                              0.0/293.3 kB ? eta -:--:--\n",
      "     ------------------                     143.4/293.3 kB 2.8 MB/s eta 0:00:01\n",
      "     -------------------------------------  286.7/293.3 kB 3.5 MB/s eta 0:00:01\n",
      "     -------------------------------------- 293.3/293.3 kB 3.0 MB/s eta 0:00:00\n",
      "Requirement already satisfied: numpy!=1.24.0,>=1.17 in c:\\users\\ssawai\\onedrive - infogroup\\desktop\\dax-ds-assignment-2023-shridhar_sawaikar\\data_analytics\\.venv\\lib\\site-packages (from seaborn) (1.25.1)\n",
      "Requirement already satisfied: pandas>=0.25 in c:\\users\\ssawai\\onedrive - infogroup\\desktop\\dax-ds-assignment-2023-shridhar_sawaikar\\data_analytics\\.venv\\lib\\site-packages (from seaborn) (2.0.3)\n",
      "Requirement already satisfied: matplotlib!=3.6.1,>=3.1 in c:\\users\\ssawai\\onedrive - infogroup\\desktop\\dax-ds-assignment-2023-shridhar_sawaikar\\data_analytics\\.venv\\lib\\site-packages (from seaborn) (3.7.2)\n",
      "Requirement already satisfied: contourpy>=1.0.1 in c:\\users\\ssawai\\onedrive - infogroup\\desktop\\dax-ds-assignment-2023-shridhar_sawaikar\\data_analytics\\.venv\\lib\\site-packages (from matplotlib!=3.6.1,>=3.1->seaborn) (1.1.0)\n",
      "Requirement already satisfied: cycler>=0.10 in c:\\users\\ssawai\\onedrive - infogroup\\desktop\\dax-ds-assignment-2023-shridhar_sawaikar\\data_analytics\\.venv\\lib\\site-packages (from matplotlib!=3.6.1,>=3.1->seaborn) (0.11.0)\n",
      "Requirement already satisfied: fonttools>=4.22.0 in c:\\users\\ssawai\\onedrive - infogroup\\desktop\\dax-ds-assignment-2023-shridhar_sawaikar\\data_analytics\\.venv\\lib\\site-packages (from matplotlib!=3.6.1,>=3.1->seaborn) (4.41.1)\n",
      "Requirement already satisfied: kiwisolver>=1.0.1 in c:\\users\\ssawai\\onedrive - infogroup\\desktop\\dax-ds-assignment-2023-shridhar_sawaikar\\data_analytics\\.venv\\lib\\site-packages (from matplotlib!=3.6.1,>=3.1->seaborn) (1.4.4)\n",
      "Requirement already satisfied: packaging>=20.0 in c:\\users\\ssawai\\onedrive - infogroup\\desktop\\dax-ds-assignment-2023-shridhar_sawaikar\\data_analytics\\.venv\\lib\\site-packages (from matplotlib!=3.6.1,>=3.1->seaborn) (23.1)\n",
      "Requirement already satisfied: pillow>=6.2.0 in c:\\users\\ssawai\\onedrive - infogroup\\desktop\\dax-ds-assignment-2023-shridhar_sawaikar\\data_analytics\\.venv\\lib\\site-packages (from matplotlib!=3.6.1,>=3.1->seaborn) (10.0.0)\n",
      "Requirement already satisfied: pyparsing<3.1,>=2.3.1 in c:\\users\\ssawai\\onedrive - infogroup\\desktop\\dax-ds-assignment-2023-shridhar_sawaikar\\data_analytics\\.venv\\lib\\site-packages (from matplotlib!=3.6.1,>=3.1->seaborn) (3.0.9)\n",
      "Requirement already satisfied: python-dateutil>=2.7 in c:\\users\\ssawai\\onedrive - infogroup\\desktop\\dax-ds-assignment-2023-shridhar_sawaikar\\data_analytics\\.venv\\lib\\site-packages (from matplotlib!=3.6.1,>=3.1->seaborn) (2.8.2)\n",
      "Requirement already satisfied: pytz>=2020.1 in c:\\users\\ssawai\\onedrive - infogroup\\desktop\\dax-ds-assignment-2023-shridhar_sawaikar\\data_analytics\\.venv\\lib\\site-packages (from pandas>=0.25->seaborn) (2023.3)\n",
      "Requirement already satisfied: tzdata>=2022.1 in c:\\users\\ssawai\\onedrive - infogroup\\desktop\\dax-ds-assignment-2023-shridhar_sawaikar\\data_analytics\\.venv\\lib\\site-packages (from pandas>=0.25->seaborn) (2023.3)\n",
      "Requirement already satisfied: six>=1.5 in c:\\users\\ssawai\\onedrive - infogroup\\desktop\\dax-ds-assignment-2023-shridhar_sawaikar\\data_analytics\\.venv\\lib\\site-packages (from python-dateutil>=2.7->matplotlib!=3.6.1,>=3.1->seaborn) (1.16.0)\n",
      "Installing collected packages: seaborn\n",
      "Successfully installed seaborn-0.12.2\n",
      "Note: you may need to restart the kernel to use updated packages.\n"
     ]
    },
    {
     "name": "stderr",
     "output_type": "stream",
     "text": [
      "\n",
      "[notice] A new release of pip is available: 23.1.2 -> 23.2.1\n",
      "[notice] To update, run: python.exe -m pip install --upgrade pip\n"
     ]
    }
   ],
   "source": [
    "pip install seaborn"
   ]
  },
  {
   "cell_type": "code",
   "execution_count": 25,
   "id": "d8bb7955",
   "metadata": {},
   "outputs": [
    {
     "data": {
      "image/png": "[encoded data removed]",
      "text/plain": [
       "<Figure size 640x480 with 1 Axes>"
      ]
     },
     "metadata": {},
     "output_type": "display_data"
    }
   ],
   "source": [
    "import seaborn as sns\n",
    "import matplotlib.pyplot as plt\n",
    "\n",
    "avg_glucose_by_age = df.groupby('age_category')['avg_glucose_level'].mean().reset_index()\n",
    "\n",
    "sns.barplot(x='age_category', y='avg_glucose_level', data=avg_glucose_by_age)\n",
    "\n",
    "plt.xlabel('Age Category')\n",
    "plt.ylabel('Average Glucose Level')\n",
    "plt.title('Average Glucose Level by Age Category')\n",
    "\n",
    "plt.show()"
   ]
  },
  {
   "cell_type": "code",
   "execution_count": 38,
   "id": "605b0497",
   "metadata": {},
   "outputs": [
    {
     "data": {
      "text/plain": [
       "Text(0.5, 1.0, 'Average Glucose Level by BMI Category')"
      ]
     },
     "execution_count": 38,
     "metadata": {},
     "output_type": "execute_result"
    },
    {
     "data": {
      "image/png": "[encoded data removed]",
      "text/plain": [
       "<Figure size 640x480 with 1 Axes>"
      ]
     },
     "metadata": {},
     "output_type": "display_data"
    }
   ],
   "source": [
    "import seaborn as sns\n",
    "import matplotlib.pyplot as plt\n",
    "\n",
    "avg_glucose_by_age = df.groupby('bmi_category')['avg_glucose_level'].mean().reset_index()\n",
    "\n",
    "sns.barplot(x='bmi_category', y='avg_glucose_level', data=avg_glucose_by_age)\n",
    "\n",
    "plt.xlabel('BMI Category')\n",
    "plt.ylabel('Average Glucose Level')\n",
    "plt.title('Average Glucose Level by BMI Category')"
   ]
  },
  {
   "cell_type": "code",
   "execution_count": 26,
   "id": "7f0937e7",
   "metadata": {},
   "outputs": [],
   "source": [
    "gender_mapping = {\"Male\": 0, \"Female\": 1}\n",
    "df['gender'] = df['gender'].map(gender_mapping)\n",
    "\n",
    "\n",
    "df['smoking_status'].replace({\n",
    "    \"never smoked\": 0,\n",
    "    \"formerly smoked\": 1,\n",
    "    \"smokes\": 2,\n",
    "    \"Unknown\": 3\n",
    "}, inplace=True)\n",
    "\n",
    "df['work_type'].replace({\n",
    "    \"Private\": 0,\n",
    "    \"Self-employed\": 1,\n",
    "    \"Govt_job\": 2,\n",
    "    \"children\": 3,\n",
    "    \"Never_worked\":4\n",
    "}, inplace=True)\n",
    "\n",
    "df['Residence_type'].replace({\n",
    "    \"Urban\": 0,\n",
    "    \"Rural\": 1\n",
    "}, inplace=True)\n",
    "\n",
    "marraige_mapping = {\"No\": 0, \"Yes\": 1}\n",
    "df['ever_married'] = df['ever_married'].map(marraige_mapping)"
   ]
  },
  {
   "cell_type": "code",
   "execution_count": 27,
   "id": "4b2ebc85",
   "metadata": {},
   "outputs": [
    {
     "name": "stdout",
     "output_type": "stream",
     "text": [
      "id                      int64\n",
      "gender                float64\n",
      "age                     int32\n",
      "hypertension            int64\n",
      "heart_disease           int64\n",
      "ever_married            int64\n",
      "work_type               int64\n",
      "Residence_type          int64\n",
      "avg_glucose_level     float64\n",
      "bmi                   float64\n",
      "smoking_status          int64\n",
      "stroke                  int64\n",
      "bmi_category         category\n",
      "age_category         category\n",
      "dtype: object\n"
     ]
    }
   ],
   "source": [
    "print(df.dtypes)"
   ]
  },
  {
   "cell_type": "code",
   "execution_count": 28,
   "id": "4ae68bb2",
   "metadata": {},
   "outputs": [
    {
     "name": "stdout",
     "output_type": "stream",
     "text": [
      "0    0\n",
      "1    0\n",
      "2    0\n",
      "3    0\n",
      "4    1\n",
      "Name: hypertension, dtype: int64\n"
     ]
    }
   ],
   "source": [
    "print(df['hypertension'].head())"
   ]
  },
  {
   "cell_type": "code",
   "execution_count": 29,
   "id": "a6e91975",
   "metadata": {},
   "outputs": [],
   "source": [
    "df['bmi_category'] = df['bmi_category'].cat.codes\n",
    "df['age_category'] = df['age_category'].cat.codes"
   ]
  },
  {
   "cell_type": "code",
   "execution_count": 62,
   "id": "c6c5d924",
   "metadata": {},
   "outputs": [
    {
     "name": "stdout",
     "output_type": "stream",
     "text": [
      "id                     int64\n",
      "gender               float64\n",
      "age                    int32\n",
      "hypertension         float64\n",
      "heart_disease          int64\n",
      "ever_married         float64\n",
      "work_type              int64\n",
      "Residence_type         int64\n",
      "avg_glucose_level    float64\n",
      "bmi                  float64\n",
      "smoking_status         int64\n",
      "stroke                 int64\n",
      "bmi_category            int8\n",
      "age_category            int8\n",
      "dtype: object\n"
     ]
    }
   ],
   "source": [
    "print(df.dtypes)"
   ]
  },
  {
   "cell_type": "code",
   "execution_count": 32,
   "id": "bda8b29f",
   "metadata": {},
   "outputs": [
    {
     "data": {
      "text/html": [
       "<div>\n",
       "<style scoped>\n",
       "    .dataframe tbody tr th:only-of-type {\n",
       "        vertical-align: middle;\n",
       "    }\n",
       "\n",
       "    .dataframe tbody tr th {\n",
       "        vertical-align: top;\n",
       "    }\n",
       "\n",
       "    .dataframe thead th {\n",
       "        text-align: right;\n",
       "    }\n",
       "</style>\n",
       "<table border=\"1\" class=\"dataframe\">\n",
       "  <thead>\n",
       "    <tr style=\"text-align: right;\">\n",
       "      <th></th>\n",
       "      <th>id</th>\n",
       "      <th>gender</th>\n",
       "      <th>age</th>\n",
       "      <th>hypertension</th>\n",
       "      <th>heart_disease</th>\n",
       "      <th>ever_married</th>\n",
       "      <th>work_type</th>\n",
       "      <th>Residence_type</th>\n",
       "      <th>avg_glucose_level</th>\n",
       "      <th>bmi</th>\n",
       "      <th>smoking_status</th>\n",
       "      <th>stroke</th>\n",
       "      <th>bmi_category</th>\n",
       "      <th>age_category</th>\n",
       "    </tr>\n",
       "  </thead>\n",
       "  <tbody>\n",
       "    <tr>\n",
       "      <th>0</th>\n",
       "      <td>9046</td>\n",
       "      <td>0</td>\n",
       "      <td>67</td>\n",
       "      <td>0</td>\n",
       "      <td>1</td>\n",
       "      <td>1</td>\n",
       "      <td>0</td>\n",
       "      <td>0</td>\n",
       "      <td>228.69</td>\n",
       "      <td>36.6</td>\n",
       "      <td>1</td>\n",
       "      <td>1</td>\n",
       "      <td>3</td>\n",
       "      <td>3</td>\n",
       "    </tr>\n",
       "    <tr>\n",
       "      <th>1</th>\n",
       "      <td>51676</td>\n",
       "      <td>1</td>\n",
       "      <td>61</td>\n",
       "      <td>0</td>\n",
       "      <td>0</td>\n",
       "      <td>1</td>\n",
       "      <td>1</td>\n",
       "      <td>1</td>\n",
       "      <td>202.21</td>\n",
       "      <td>28.1</td>\n",
       "      <td>0</td>\n",
       "      <td>1</td>\n",
       "      <td>2</td>\n",
       "      <td>3</td>\n",
       "    </tr>\n",
       "    <tr>\n",
       "      <th>2</th>\n",
       "      <td>31112</td>\n",
       "      <td>0</td>\n",
       "      <td>80</td>\n",
       "      <td>0</td>\n",
       "      <td>1</td>\n",
       "      <td>1</td>\n",
       "      <td>0</td>\n",
       "      <td>1</td>\n",
       "      <td>105.92</td>\n",
       "      <td>32.5</td>\n",
       "      <td>0</td>\n",
       "      <td>1</td>\n",
       "      <td>3</td>\n",
       "      <td>3</td>\n",
       "    </tr>\n",
       "    <tr>\n",
       "      <th>3</th>\n",
       "      <td>60182</td>\n",
       "      <td>1</td>\n",
       "      <td>49</td>\n",
       "      <td>0</td>\n",
       "      <td>0</td>\n",
       "      <td>1</td>\n",
       "      <td>0</td>\n",
       "      <td>0</td>\n",
       "      <td>171.23</td>\n",
       "      <td>34.4</td>\n",
       "      <td>2</td>\n",
       "      <td>1</td>\n",
       "      <td>3</td>\n",
       "      <td>2</td>\n",
       "    </tr>\n",
       "    <tr>\n",
       "      <th>4</th>\n",
       "      <td>1665</td>\n",
       "      <td>1</td>\n",
       "      <td>79</td>\n",
       "      <td>1</td>\n",
       "      <td>0</td>\n",
       "      <td>1</td>\n",
       "      <td>1</td>\n",
       "      <td>1</td>\n",
       "      <td>174.12</td>\n",
       "      <td>24.0</td>\n",
       "      <td>0</td>\n",
       "      <td>1</td>\n",
       "      <td>1</td>\n",
       "      <td>3</td>\n",
       "    </tr>\n",
       "  </tbody>\n",
       "</table>\n",
       "</div>"
      ],
      "text/plain": [
       "      id  gender  age  hypertension  heart_disease  ever_married  work_type  \\\n",
       "0   9046       0   67             0              1             1          0   \n",
       "1  51676       1   61             0              0             1          1   \n",
       "2  31112       0   80             0              1             1          0   \n",
       "3  60182       1   49             0              0             1          0   \n",
       "4   1665       1   79             1              0             1          1   \n",
       "\n",
       "   Residence_type  avg_glucose_level   bmi  smoking_status  stroke  \\\n",
       "0               0             228.69  36.6               1       1   \n",
       "1               1             202.21  28.1               0       1   \n",
       "2               1             105.92  32.5               0       1   \n",
       "3               0             171.23  34.4               2       1   \n",
       "4               1             174.12  24.0               0       1   \n",
       "\n",
       "   bmi_category  age_category  \n",
       "0             3             3  \n",
       "1             2             3  \n",
       "2             3             3  \n",
       "3             3             2  \n",
       "4             1             3  "
      ]
     },
     "execution_count": 32,
     "metadata": {},
     "output_type": "execute_result"
    }
   ],
   "source": [
    "from sklearn.preprocessing import LabelEncoder\n",
    "\n",
    "gender_encoder = LabelEncoder()\n",
    "married_encoder = LabelEncoder()\n",
    "work_encoder = LabelEncoder()\n",
    "residence_encoder = LabelEncoder()\n",
    "smoking_encoder = LabelEncoder()\n",
    "age_group_encoder = LabelEncoder()\n",
    "bmi_category_encoder = LabelEncoder()\n",
    "\n",
    "df['gender'] = gender_encoder.fit_transform(df['gender'])\n",
    "df['ever_married'] = married_encoder.fit_transform(df['ever_married'])\n",
    "df['work_type'] = work_encoder.fit_transform(df['work_type'])\n",
    "df['Residence_type'] = residence_encoder.fit_transform(df['Residence_type'])\n",
    "df['smoking_status'] = smoking_encoder.fit_transform(df['smoking_status'])\n",
    "df['age_category'] = age_group_encoder.fit_transform(df['age_category'])\n",
    "df['bmi_category'] = bmi_category_encoder.fit_transform(df['bmi_category'])\n",
    "\n",
    "df.head()"
   ]
  },
  {
   "cell_type": "code",
   "execution_count": 33,
   "id": "68059a38",
   "metadata": {},
   "outputs": [
    {
     "name": "stdout",
     "output_type": "stream",
     "text": [
      "Summary Statistics Before Scaling:\n",
      "                age           bmi  avg_glucose_level\n",
      "count  5.110000e+03  5.110000e+03       5.110000e+03\n",
      "mean   2.224791e-17 -4.449583e-17       1.001156e-16\n",
      "std    1.000098e+00  1.000098e+00       1.000098e+00\n",
      "min   -1.911792e+00 -2.411027e+00      -1.126958e+00\n",
      "25%   -8.061122e-01 -6.575089e-01      -6.383223e-01\n",
      "50%    7.843188e-02 -9.898092e-02      -3.149945e-01\n",
      "75%    7.860671e-01  5.115031e-01       1.754080e-01\n",
      "max    1.714838e+00  8.928390e+00       3.657145e+00\n",
      "\n",
      "Summary Statistics After Min-Max Scaling:\n",
      "               age          bmi  avg_glucose_level\n",
      "count  5110.000000  5110.000000        5110.000000\n",
      "mean      0.527154     0.212624           0.235563\n",
      "std       0.275765     0.088197           0.209046\n",
      "min       0.000000     0.000000           0.000000\n",
      "25%       0.304878     0.154639           0.102137\n",
      "50%       0.548780     0.203895           0.169721\n",
      "75%       0.743902     0.257732           0.272228\n",
      "max       1.000000     1.000000           1.000000\n"
     ]
    }
   ],
   "source": [
    "import pandas as pd\n",
    "from sklearn.preprocessing import MinMaxScaler, StandardScaler\n",
    "\n",
    "num_columns = ['age', 'bmi', 'avg_glucose_level']\n",
    "\n",
    "df_original = df.copy()\n",
    "\n",
    "scaler_minmax = MinMaxScaler()\n",
    "df[num_columns] = scaler_minmax.fit_transform(df[num_columns])\n",
    "\n",
    "scaler_standard = StandardScaler()\n",
    "df_original[num_columns] = scaler_standard.fit_transform(df_original[num_columns])\n",
    "\n",
    "print(\"Summary Statistics Before Scaling:\")\n",
    "print(df_original[num_columns].describe())\n",
    "\n",
    "print(\"\\nSummary Statistics After Min-Max Scaling:\")\n",
    "print(df[num_columns].describe())"
   ]
  },
  {
   "cell_type": "code",
   "execution_count": 34,
   "id": "ad3fe720",
   "metadata": {},
   "outputs": [
    {
     "name": "stdout",
     "output_type": "stream",
     "text": [
      "      id  gender       age  hypertension  heart_disease  ever_married  \\\n",
      "0   9046       0  0.817073             0              1             1   \n",
      "1  51676       1  0.743902             0              0             1   \n",
      "2  31112       0  0.975610             0              1             1   \n",
      "3  60182       1  0.597561             0              0             1   \n",
      "4   1665       1  0.963415             1              0             1   \n",
      "\n",
      "   work_type  Residence_type  avg_glucose_level       bmi  smoking_status  \\\n",
      "0          0               0           0.801265  0.301260               1   \n",
      "1          1               1           0.679023  0.203895               0   \n",
      "2          0               1           0.234512  0.254296               0   \n",
      "3          0               0           0.536008  0.276060               2   \n",
      "4          1               1           0.549349  0.156930               0   \n",
      "\n",
      "   stroke  bmi_category  age_category  \n",
      "0       1             3             3  \n",
      "1       1             2             3  \n",
      "2       1             3             3  \n",
      "3       1             3             2  \n",
      "4       1             1             3  \n"
     ]
    }
   ],
   "source": [
    "print(df.head())"
   ]
  },
  {
   "cell_type": "code",
   "execution_count": 35,
   "id": "a67c8e64",
   "metadata": {},
   "outputs": [],
   "source": [
    "df=df.drop(columns=['id'])"
   ]
  },
  {
   "cell_type": "code",
   "execution_count": 36,
   "id": "ca862102",
   "metadata": {},
   "outputs": [
    {
     "name": "stdout",
     "output_type": "stream",
     "text": [
      "   gender       age  hypertension  heart_disease  ever_married  work_type  \\\n",
      "0       0  0.817073             0              1             1          0   \n",
      "1       1  0.743902             0              0             1          1   \n",
      "2       0  0.975610             0              1             1          0   \n",
      "3       1  0.597561             0              0             1          0   \n",
      "4       1  0.963415             1              0             1          1   \n",
      "\n",
      "   Residence_type  avg_glucose_level       bmi  smoking_status  stroke  \\\n",
      "0               0           0.801265  0.301260               1       1   \n",
      "1               1           0.679023  0.203895               0       1   \n",
      "2               1           0.234512  0.254296               0       1   \n",
      "3               0           0.536008  0.276060               2       1   \n",
      "4               1           0.549349  0.156930               0       1   \n",
      "\n",
      "   bmi_category  age_category  \n",
      "0             3             3  \n",
      "1             2             3  \n",
      "2             3             3  \n",
      "3             3             2  \n",
      "4             1             3  \n"
     ]
    }
   ],
   "source": [
    "print(df.head())"
   ]
  },
  {
   "cell_type": "code",
   "execution_count": 37,
   "id": "cb8cd232",
   "metadata": {},
   "outputs": [
    {
     "name": "stdout",
     "output_type": "stream",
     "text": [
      "                     gender       age  hypertension  heart_disease  \\\n",
      "gender             1.000000  0.027236     -0.021390      -0.085749   \n",
      "age                0.027236  1.000000      0.276397       0.263795   \n",
      "hypertension      -0.021390  0.276397      1.000000       0.108306   \n",
      "heart_disease     -0.085749  0.263795      0.108306       1.000000   \n",
      "ever_married       0.029366  0.679122      0.164243       0.114644   \n",
      "work_type         -0.066212 -0.413268     -0.075097      -0.058263   \n",
      "Residence_type    -0.005529 -0.014208      0.007913      -0.003092   \n",
      "avg_glucose_level -0.054213  0.238179      0.174474       0.161857   \n",
      "bmi                0.025958  0.324298      0.158293       0.036916   \n",
      "smoking_status    -0.084843 -0.300927     -0.119309      -0.027676   \n",
      "stroke            -0.009200  0.245244      0.127904       0.134914   \n",
      "bmi_category      -0.018804  0.434592      0.153409       0.081560   \n",
      "age_category       0.053975  0.895350      0.231718       0.197086   \n",
      "\n",
      "                   ever_married  work_type  Residence_type  avg_glucose_level  \\\n",
      "gender                 0.029366  -0.066212       -0.005529          -0.054213   \n",
      "age                    0.679122  -0.413268       -0.014208           0.238179   \n",
      "hypertension           0.164243  -0.075097        0.007913           0.174474   \n",
      "heart_disease          0.114644  -0.058263       -0.003092           0.161857   \n",
      "ever_married           1.000000  -0.375944       -0.006261           0.155068   \n",
      "work_type             -0.375944   1.000000       -0.014573          -0.068135   \n",
      "Residence_type        -0.006261  -0.014573        1.000000           0.004946   \n",
      "avg_glucose_level      0.155068  -0.068135        0.004946           1.000000   \n",
      "bmi                    0.334911  -0.341500        0.000277           0.166876   \n",
      "smoking_status        -0.251698   0.301190       -0.015737          -0.073552   \n",
      "stroke                 0.108340  -0.058224       -0.015458           0.131945   \n",
      "bmi_category           0.405911  -0.401641        0.007536           0.164108   \n",
      "age_category           0.656309  -0.578825       -0.010349           0.202419   \n",
      "\n",
      "                        bmi  smoking_status    stroke  bmi_category  \\\n",
      "gender             0.025958       -0.084843 -0.009200     -0.018804   \n",
      "age                0.324298       -0.300927  0.245244      0.434592   \n",
      "hypertension       0.158293       -0.119309  0.127904      0.153409   \n",
      "heart_disease      0.036916       -0.027676  0.134914      0.081560   \n",
      "ever_married       0.334911       -0.251698  0.108340      0.405911   \n",
      "work_type         -0.341500        0.301190 -0.058224     -0.401641   \n",
      "Residence_type     0.000277       -0.015737 -0.015458      0.007536   \n",
      "avg_glucose_level  0.166876       -0.073552  0.131945      0.164108   \n",
      "bmi                1.000000       -0.210485  0.036110      0.843294   \n",
      "smoking_status    -0.210485        1.000000 -0.036653     -0.253422   \n",
      "stroke             0.036110       -0.036653  1.000000      0.060697   \n",
      "bmi_category       0.843294       -0.253422  0.060697      1.000000   \n",
      "age_category       0.406210       -0.372266  0.179309      0.519850   \n",
      "\n",
      "                   age_category  \n",
      "gender                 0.053975  \n",
      "age                    0.895350  \n",
      "hypertension           0.231718  \n",
      "heart_disease          0.197086  \n",
      "ever_married           0.656309  \n",
      "work_type             -0.578825  \n",
      "Residence_type        -0.010349  \n",
      "avg_glucose_level      0.202419  \n",
      "bmi                    0.406210  \n",
      "smoking_status        -0.372266  \n",
      "stroke                 0.179309  \n",
      "bmi_category           0.519850  \n",
      "age_category           1.000000  \n"
     ]
    }
   ],
   "source": [
    "print(df.corr())"
   ]
  },
  {
   "cell_type": "code",
   "execution_count": 38,
   "id": "f3d83cc3",
   "metadata": {},
   "outputs": [
    {
     "data": {
      "text/plain": [
       "{'age_category', 'bmi_category', 'ever_married'}"
      ]
     },
     "execution_count": 38,
     "metadata": {},
     "output_type": "execute_result"
    }
   ],
   "source": [
    "def correlation(df, th):\n",
    "    highly_correlated = set()\n",
    "    corr = df.corr()\n",
    "    for i in range(len(corr.columns)):\n",
    "        for j in range(i):\n",
    "            if abs(corr.iloc[i, j]) > th:\n",
    "                col_name = corr.columns[i]\n",
    "                highly_correlated.add(col_name)\n",
    "    return highly_correlated\n",
    "\n",
    "correlation(df, 0.65)"
   ]
  },
  {
   "cell_type": "code",
   "execution_count": 39,
   "id": "be0409c4",
   "metadata": {},
   "outputs": [],
   "source": [
    "df.to_csv('processed_dataset.csv')"
   ]
  },
  {
   "cell_type": "code",
   "execution_count": null,
   "id": "5eaa0e03",
   "metadata": {},
   "outputs": [],
   "source": []
  }
 ],
 "metadata": {
  "kernelspec": {
   "display_name": "Python 3 (ipykernel)",
   "language": "python",
   "name": "python3"
  },
  "language_info": {
   "codemirror_mode": {
    "name": "ipython",
    "version": 3
   },
   "file_extension": ".py",
   "mimetype": "text/x-python",
   "name": "python",
   "nbconvert_exporter": "python",
   "pygments_lexer": "ipython3",
   "version": "3.10.11"
  }
 },
 "nbformat": 4,
 "nbformat_minor": 5
}
